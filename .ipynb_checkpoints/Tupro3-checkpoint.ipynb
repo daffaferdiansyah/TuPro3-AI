{
 "cells": [
  {
   "cell_type": "code",
   "execution_count": 1,
   "metadata": {
    "colab": {
     "base_uri": "https://localhost:8080/"
    },
    "id": "aVvbVjga_V0a",
    "outputId": "a70f9e46-4e9c-491d-fc0d-d5c78b75982c"
   },
   "outputs": [
    {
     "name": "stdout",
     "output_type": "stream",
     "text": [
      "Requirement already satisfied: xlsxwriter in c:\\users\\user\\anaconda3\\lib\\site-packages (3.0.3)\n"
     ]
    }
   ],
   "source": [
    "!pip install xlsxwriter"
   ]
  },
  {
   "cell_type": "code",
   "execution_count": 2,
   "metadata": {
    "id": "tql_qx-LHSDZ"
   },
   "outputs": [],
   "source": [
    "import xlsxwriter\n",
    "import pandas as pd\n",
    "import matplotlib.pyplot as plt\n",
    "import seaborn as sns\n",
    "import numpy as np\n",
    "import math\n",
    "import time\n",
    "from statistics import mean"
   ]
  },
  {
   "cell_type": "markdown",
   "metadata": {
    "id": "Jbpwq8xeiL47"
   },
   "source": [
    "# Import Data"
   ]
  },
  {
   "cell_type": "code",
   "execution_count": 3,
   "metadata": {
    "colab": {
     "base_uri": "https://localhost:8080/",
     "height": 424
    },
    "id": "aVbTicm7Kf6O",
    "outputId": "54a67800-c52f-44aa-c3b0-5ab3acf7c245"
   },
   "outputs": [
    {
     "data": {
      "text/html": [
       "<div>\n",
       "<style scoped>\n",
       "    .dataframe tbody tr th:only-of-type {\n",
       "        vertical-align: middle;\n",
       "    }\n",
       "\n",
       "    .dataframe tbody tr th {\n",
       "        vertical-align: top;\n",
       "    }\n",
       "\n",
       "    .dataframe thead th {\n",
       "        text-align: right;\n",
       "    }\n",
       "</style>\n",
       "<table border=\"1\" class=\"dataframe\">\n",
       "  <thead>\n",
       "    <tr style=\"text-align: right;\">\n",
       "      <th></th>\n",
       "      <th>id</th>\n",
       "      <th>x1</th>\n",
       "      <th>x2</th>\n",
       "      <th>x3</th>\n",
       "      <th>y</th>\n",
       "    </tr>\n",
       "  </thead>\n",
       "  <tbody>\n",
       "    <tr>\n",
       "      <th>0</th>\n",
       "      <td>1</td>\n",
       "      <td>60</td>\n",
       "      <td>64</td>\n",
       "      <td>0</td>\n",
       "      <td>1</td>\n",
       "    </tr>\n",
       "    <tr>\n",
       "      <th>1</th>\n",
       "      <td>2</td>\n",
       "      <td>54</td>\n",
       "      <td>60</td>\n",
       "      <td>11</td>\n",
       "      <td>0</td>\n",
       "    </tr>\n",
       "    <tr>\n",
       "      <th>2</th>\n",
       "      <td>3</td>\n",
       "      <td>65</td>\n",
       "      <td>62</td>\n",
       "      <td>22</td>\n",
       "      <td>0</td>\n",
       "    </tr>\n",
       "    <tr>\n",
       "      <th>3</th>\n",
       "      <td>4</td>\n",
       "      <td>34</td>\n",
       "      <td>60</td>\n",
       "      <td>0</td>\n",
       "      <td>1</td>\n",
       "    </tr>\n",
       "    <tr>\n",
       "      <th>4</th>\n",
       "      <td>5</td>\n",
       "      <td>38</td>\n",
       "      <td>69</td>\n",
       "      <td>21</td>\n",
       "      <td>0</td>\n",
       "    </tr>\n",
       "    <tr>\n",
       "      <th>...</th>\n",
       "      <td>...</td>\n",
       "      <td>...</td>\n",
       "      <td>...</td>\n",
       "      <td>...</td>\n",
       "      <td>...</td>\n",
       "    </tr>\n",
       "    <tr>\n",
       "      <th>291</th>\n",
       "      <td>292</td>\n",
       "      <td>59</td>\n",
       "      <td>64</td>\n",
       "      <td>1</td>\n",
       "      <td>1</td>\n",
       "    </tr>\n",
       "    <tr>\n",
       "      <th>292</th>\n",
       "      <td>293</td>\n",
       "      <td>65</td>\n",
       "      <td>67</td>\n",
       "      <td>0</td>\n",
       "      <td>1</td>\n",
       "    </tr>\n",
       "    <tr>\n",
       "      <th>293</th>\n",
       "      <td>294</td>\n",
       "      <td>53</td>\n",
       "      <td>65</td>\n",
       "      <td>12</td>\n",
       "      <td>0</td>\n",
       "    </tr>\n",
       "    <tr>\n",
       "      <th>294</th>\n",
       "      <td>295</td>\n",
       "      <td>57</td>\n",
       "      <td>64</td>\n",
       "      <td>1</td>\n",
       "      <td>0</td>\n",
       "    </tr>\n",
       "    <tr>\n",
       "      <th>295</th>\n",
       "      <td>296</td>\n",
       "      <td>54</td>\n",
       "      <td>59</td>\n",
       "      <td>7</td>\n",
       "      <td>1</td>\n",
       "    </tr>\n",
       "  </tbody>\n",
       "</table>\n",
       "<p>296 rows × 5 columns</p>\n",
       "</div>"
      ],
      "text/plain": [
       "      id  x1  x2  x3  y\n",
       "0      1  60  64   0  1\n",
       "1      2  54  60  11  0\n",
       "2      3  65  62  22  0\n",
       "3      4  34  60   0  1\n",
       "4      5  38  69  21  0\n",
       "..   ...  ..  ..  .. ..\n",
       "291  292  59  64   1  1\n",
       "292  293  65  67   0  1\n",
       "293  294  53  65  12  0\n",
       "294  295  57  64   1  0\n",
       "295  296  54  59   7  1\n",
       "\n",
       "[296 rows x 5 columns]"
      ]
     },
     "execution_count": 3,
     "metadata": {},
     "output_type": "execute_result"
    }
   ],
   "source": [
    "# import data train dari traintest.xlsx\n",
    "df = pd.read_excel(\"https://github.com/daffaferdiansyah/TuPro3-AI/blob/main/traintest.xlsx?raw=true\", sheet_name='train')\n",
    "df"
   ]
  },
  {
   "cell_type": "code",
   "execution_count": 4,
   "metadata": {
    "colab": {
     "base_uri": "https://localhost:8080/",
     "height": 363
    },
    "id": "qcNzBvgvmVi1",
    "outputId": "86d39648-f5e0-49f4-d5fc-12b35de25567"
   },
   "outputs": [
    {
     "data": {
      "text/html": [
       "<div>\n",
       "<style scoped>\n",
       "    .dataframe tbody tr th:only-of-type {\n",
       "        vertical-align: middle;\n",
       "    }\n",
       "\n",
       "    .dataframe tbody tr th {\n",
       "        vertical-align: top;\n",
       "    }\n",
       "\n",
       "    .dataframe thead th {\n",
       "        text-align: right;\n",
       "    }\n",
       "</style>\n",
       "<table border=\"1\" class=\"dataframe\">\n",
       "  <thead>\n",
       "    <tr style=\"text-align: right;\">\n",
       "      <th></th>\n",
       "      <th>id</th>\n",
       "      <th>x1</th>\n",
       "      <th>x2</th>\n",
       "      <th>x3</th>\n",
       "    </tr>\n",
       "  </thead>\n",
       "  <tbody>\n",
       "    <tr>\n",
       "      <th>0</th>\n",
       "      <td>297</td>\n",
       "      <td>43</td>\n",
       "      <td>59</td>\n",
       "      <td>2</td>\n",
       "    </tr>\n",
       "    <tr>\n",
       "      <th>1</th>\n",
       "      <td>298</td>\n",
       "      <td>67</td>\n",
       "      <td>66</td>\n",
       "      <td>0</td>\n",
       "    </tr>\n",
       "    <tr>\n",
       "      <th>2</th>\n",
       "      <td>299</td>\n",
       "      <td>58</td>\n",
       "      <td>60</td>\n",
       "      <td>3</td>\n",
       "    </tr>\n",
       "    <tr>\n",
       "      <th>3</th>\n",
       "      <td>300</td>\n",
       "      <td>49</td>\n",
       "      <td>63</td>\n",
       "      <td>3</td>\n",
       "    </tr>\n",
       "    <tr>\n",
       "      <th>4</th>\n",
       "      <td>301</td>\n",
       "      <td>45</td>\n",
       "      <td>60</td>\n",
       "      <td>0</td>\n",
       "    </tr>\n",
       "    <tr>\n",
       "      <th>5</th>\n",
       "      <td>302</td>\n",
       "      <td>54</td>\n",
       "      <td>58</td>\n",
       "      <td>1</td>\n",
       "    </tr>\n",
       "    <tr>\n",
       "      <th>6</th>\n",
       "      <td>303</td>\n",
       "      <td>56</td>\n",
       "      <td>66</td>\n",
       "      <td>3</td>\n",
       "    </tr>\n",
       "    <tr>\n",
       "      <th>7</th>\n",
       "      <td>304</td>\n",
       "      <td>42</td>\n",
       "      <td>69</td>\n",
       "      <td>1</td>\n",
       "    </tr>\n",
       "    <tr>\n",
       "      <th>8</th>\n",
       "      <td>305</td>\n",
       "      <td>50</td>\n",
       "      <td>59</td>\n",
       "      <td>2</td>\n",
       "    </tr>\n",
       "    <tr>\n",
       "      <th>9</th>\n",
       "      <td>306</td>\n",
       "      <td>59</td>\n",
       "      <td>60</td>\n",
       "      <td>0</td>\n",
       "    </tr>\n",
       "  </tbody>\n",
       "</table>\n",
       "</div>"
      ],
      "text/plain": [
       "    id  x1  x2  x3\n",
       "0  297  43  59   2\n",
       "1  298  67  66   0\n",
       "2  299  58  60   3\n",
       "3  300  49  63   3\n",
       "4  301  45  60   0\n",
       "5  302  54  58   1\n",
       "6  303  56  66   3\n",
       "7  304  42  69   1\n",
       "8  305  50  59   2\n",
       "9  306  59  60   0"
      ]
     },
     "execution_count": 4,
     "metadata": {},
     "output_type": "execute_result"
    }
   ],
   "source": [
    "# import data test dari traintest.xlsx\n",
    "dfTest = pd.read_excel(\"https://github.com/daffaferdiansyah/TuPro3-AI/blob/main/traintest.xlsx?raw=true\", sheet_name='test').drop('y', axis=1)\n",
    "dfTest"
   ]
  },
  {
   "cell_type": "markdown",
   "metadata": {
    "id": "PA6mOMzWzwnf"
   },
   "source": [
    "#Data Preprocessing\n",
    "\n"
   ]
  },
  {
   "cell_type": "code",
   "execution_count": 5,
   "metadata": {
    "colab": {
     "base_uri": "https://localhost:8080/",
     "height": 518
    },
    "id": "_63OoNWLOrxV",
    "outputId": "4cef4815-5ed3-405e-c466-ef4bf7964d41"
   },
   "outputs": [
    {
     "data": {
      "text/plain": [
       "Text(0.5, 1.0, 'Data train sebelum normalisasi')"
      ]
     },
     "execution_count": 5,
     "metadata": {},
     "output_type": "execute_result"
    },
    {
     "data": {
      "image/png": "[encoded data removed]",
      "text/plain": [
       "<Figure size 432x288 with 1 Axes>"
      ]
     },
     "metadata": {},
     "output_type": "display_data"
    }
   ],
   "source": [
    "# menampilkan data train yang belum dinormalisasi dalam bentuk boxplot\n",
    "sns.set_theme(style=\"whitegrid\")\n",
    "ax = sns.boxplot(data=df[['x1', 'x2', 'x3']], orient=\"v\", palette=\"Set2\")\n",
    "sns.set(rc={'figure.figsize':(5, 8)})\n",
    "ax.set_xticklabels(['x1', 'x2', 'x3'])\n",
    "plt.title('Data train sebelum normalisasi')"
   ]
  },
  {
   "cell_type": "code",
   "execution_count": 6,
   "metadata": {
    "colab": {
     "base_uri": "https://localhost:8080/",
     "height": 424
    },
    "id": "tNjzaKcVRR5s",
    "outputId": "e424aed9-e934-40ab-c9b9-8052e7a9a874"
   },
   "outputs": [
    {
     "data": {
      "text/html": [
       "<div>\n",
       "<style scoped>\n",
       "    .dataframe tbody tr th:only-of-type {\n",
       "        vertical-align: middle;\n",
       "    }\n",
       "\n",
       "    .dataframe tbody tr th {\n",
       "        vertical-align: top;\n",
       "    }\n",
       "\n",
       "    .dataframe thead th {\n",
       "        text-align: right;\n",
       "    }\n",
       "</style>\n",
       "<table border=\"1\" class=\"dataframe\">\n",
       "  <thead>\n",
       "    <tr style=\"text-align: right;\">\n",
       "      <th></th>\n",
       "      <th>id</th>\n",
       "      <th>x1</th>\n",
       "      <th>x2</th>\n",
       "      <th>x3</th>\n",
       "      <th>y</th>\n",
       "    </tr>\n",
       "  </thead>\n",
       "  <tbody>\n",
       "    <tr>\n",
       "      <th>0</th>\n",
       "      <td>1</td>\n",
       "      <td>0.566038</td>\n",
       "      <td>0.545455</td>\n",
       "      <td>0.000000</td>\n",
       "      <td>1</td>\n",
       "    </tr>\n",
       "    <tr>\n",
       "      <th>1</th>\n",
       "      <td>2</td>\n",
       "      <td>0.452830</td>\n",
       "      <td>0.181818</td>\n",
       "      <td>0.211538</td>\n",
       "      <td>0</td>\n",
       "    </tr>\n",
       "    <tr>\n",
       "      <th>2</th>\n",
       "      <td>3</td>\n",
       "      <td>0.660377</td>\n",
       "      <td>0.363636</td>\n",
       "      <td>0.423077</td>\n",
       "      <td>0</td>\n",
       "    </tr>\n",
       "    <tr>\n",
       "      <th>3</th>\n",
       "      <td>4</td>\n",
       "      <td>0.075472</td>\n",
       "      <td>0.181818</td>\n",
       "      <td>0.000000</td>\n",
       "      <td>1</td>\n",
       "    </tr>\n",
       "    <tr>\n",
       "      <th>4</th>\n",
       "      <td>5</td>\n",
       "      <td>0.150943</td>\n",
       "      <td>1.000000</td>\n",
       "      <td>0.403846</td>\n",
       "      <td>0</td>\n",
       "    </tr>\n",
       "    <tr>\n",
       "      <th>...</th>\n",
       "      <td>...</td>\n",
       "      <td>...</td>\n",
       "      <td>...</td>\n",
       "      <td>...</td>\n",
       "      <td>...</td>\n",
       "    </tr>\n",
       "    <tr>\n",
       "      <th>291</th>\n",
       "      <td>292</td>\n",
       "      <td>0.547170</td>\n",
       "      <td>0.545455</td>\n",
       "      <td>0.019231</td>\n",
       "      <td>1</td>\n",
       "    </tr>\n",
       "    <tr>\n",
       "      <th>292</th>\n",
       "      <td>293</td>\n",
       "      <td>0.660377</td>\n",
       "      <td>0.818182</td>\n",
       "      <td>0.000000</td>\n",
       "      <td>1</td>\n",
       "    </tr>\n",
       "    <tr>\n",
       "      <th>293</th>\n",
       "      <td>294</td>\n",
       "      <td>0.433962</td>\n",
       "      <td>0.636364</td>\n",
       "      <td>0.230769</td>\n",
       "      <td>0</td>\n",
       "    </tr>\n",
       "    <tr>\n",
       "      <th>294</th>\n",
       "      <td>295</td>\n",
       "      <td>0.509434</td>\n",
       "      <td>0.545455</td>\n",
       "      <td>0.019231</td>\n",
       "      <td>0</td>\n",
       "    </tr>\n",
       "    <tr>\n",
       "      <th>295</th>\n",
       "      <td>296</td>\n",
       "      <td>0.452830</td>\n",
       "      <td>0.090909</td>\n",
       "      <td>0.134615</td>\n",
       "      <td>1</td>\n",
       "    </tr>\n",
       "  </tbody>\n",
       "</table>\n",
       "<p>296 rows × 5 columns</p>\n",
       "</div>"
      ],
      "text/plain": [
       "      id        x1        x2        x3  y\n",
       "0      1  0.566038  0.545455  0.000000  1\n",
       "1      2  0.452830  0.181818  0.211538  0\n",
       "2      3  0.660377  0.363636  0.423077  0\n",
       "3      4  0.075472  0.181818  0.000000  1\n",
       "4      5  0.150943  1.000000  0.403846  0\n",
       "..   ...       ...       ...       ... ..\n",
       "291  292  0.547170  0.545455  0.019231  1\n",
       "292  293  0.660377  0.818182  0.000000  1\n",
       "293  294  0.433962  0.636364  0.230769  0\n",
       "294  295  0.509434  0.545455  0.019231  0\n",
       "295  296  0.452830  0.090909  0.134615  1\n",
       "\n",
       "[296 rows x 5 columns]"
      ]
     },
     "execution_count": 6,
     "metadata": {},
     "output_type": "execute_result"
    }
   ],
   "source": [
    "# Normalisasi data train menggunakan rumus min-max scaling\n",
    "dfNorm = pd.DataFrame(index=df.index, columns=df.columns)\n",
    "xMax = df[\"x1\"].max()\n",
    "xMin = df[\"x1\"].min()\n",
    "for i in range(len(df)):\n",
    "    x = df[\"x1\"][i]\n",
    "    xNew = (x - xMin) / (xMax - xMin)\n",
    "    dfNorm[\"x1\"][i] = xNew\n",
    "\n",
    "xMax = df[\"x2\"].max()\n",
    "xMin = df[\"x2\"].min()\n",
    "for i in range(len(df)):\n",
    "    x = df[\"x2\"][i]\n",
    "    xNew = (x - xMin) / (xMax - xMin)\n",
    "    dfNorm[\"x2\"][i] = xNew\n",
    "\n",
    "xMax = df[\"x3\"].max()\n",
    "xMin = df[\"x3\"].min()\n",
    "for i in range(len(df)):\n",
    "    x = df[\"x3\"][i]\n",
    "    xNew = (x - xMin) / (xMax - xMin)\n",
    "    dfNorm[\"x3\"][i] = xNew\n",
    "\n",
    "dfNorm['x1'] = dfNorm['x1'].astype(float)\n",
    "dfNorm['x2'] = dfNorm['x2'].astype(float)\n",
    "dfNorm['x3'] = dfNorm['x3'].astype(float)\n",
    "dfNorm['y'] = df['y']\n",
    "dfNorm['id'] = df['id']\n",
    "dfNorm"
   ]
  },
  {
   "cell_type": "code",
   "execution_count": 7,
   "metadata": {
    "colab": {
     "base_uri": "https://localhost:8080/",
     "height": 518
    },
    "id": "HJKcgUtESR0H",
    "outputId": "a9ff937f-783e-46d6-c134-7b4c380b881c"
   },
   "outputs": [
    {
     "data": {
      "text/plain": [
       "Text(0.5, 1.0, 'Data train setelah normalisasi')"
      ]
     },
     "execution_count": 7,
     "metadata": {},
     "output_type": "execute_result"
    },
    {
     "data": {
      "image/png": "[encoded data removed]",
      "text/plain": [
       "<Figure size 360x576 with 1 Axes>"
      ]
     },
     "metadata": {},
     "output_type": "display_data"
    }
   ],
   "source": [
    "# menampilkan data train yang sudah dinormalisasi dalam bentuk boxplot\n",
    "sns.set_theme(style=\"whitegrid\")\n",
    "ax = sns.boxplot(data=dfNorm[['x1', 'x2', 'x3']], orient=\"v\", palette=\"Set2\")\n",
    "sns.set(rc={'figure.figsize':(7, 8)})\n",
    "ax.set_xticklabels(['x1', 'x2', 'x3'])\n",
    "plt.title('Data train setelah normalisasi')"
   ]
  },
  {
   "cell_type": "code",
   "execution_count": 8,
   "metadata": {
    "colab": {
     "base_uri": "https://localhost:8080/",
     "height": 518
    },
    "id": "l0ZWEhKQ0LO4",
    "outputId": "cc89f617-a0ea-486b-a06f-61ccd53f05f6"
   },
   "outputs": [
    {
     "data": {
      "text/plain": [
       "Text(0.5, 1.0, 'Data test sebelum normalisasi')"
      ]
     },
     "execution_count": 8,
     "metadata": {},
     "output_type": "execute_result"
    },
    {
     "data": {
      "image/png": "[encoded data removed]",
      "text/plain": [
       "<Figure size 504x576 with 1 Axes>"
      ]
     },
     "metadata": {},
     "output_type": "display_data"
    }
   ],
   "source": [
    "# menampilkan data test yang belum dinormalisasi dalam bentuk boxplot\n",
    "sns.set_theme(style=\"whitegrid\")\n",
    "ax = sns.boxplot(data=dfTest[['x1', 'x2', 'x3']], orient=\"v\", palette=\"Set2\")\n",
    "sns.set(rc={'figure.figsize':(5, 8)})\n",
    "ax.set_xticklabels(['x1', 'x2', 'x3'])\n",
    "plt.title('Data test sebelum normalisasi')"
   ]
  },
  {
   "cell_type": "code",
   "execution_count": 9,
   "metadata": {
    "colab": {
     "base_uri": "https://localhost:8080/",
     "height": 363
    },
    "id": "fGW9_2U4vOq0",
    "outputId": "415231d5-6258-43b6-c0c0-ff7042f7ff81"
   },
   "outputs": [
    {
     "data": {
      "text/html": [
       "<div>\n",
       "<style scoped>\n",
       "    .dataframe tbody tr th:only-of-type {\n",
       "        vertical-align: middle;\n",
       "    }\n",
       "\n",
       "    .dataframe tbody tr th {\n",
       "        vertical-align: top;\n",
       "    }\n",
       "\n",
       "    .dataframe thead th {\n",
       "        text-align: right;\n",
       "    }\n",
       "</style>\n",
       "<table border=\"1\" class=\"dataframe\">\n",
       "  <thead>\n",
       "    <tr style=\"text-align: right;\">\n",
       "      <th></th>\n",
       "      <th>id</th>\n",
       "      <th>x1</th>\n",
       "      <th>x2</th>\n",
       "      <th>x3</th>\n",
       "    </tr>\n",
       "  </thead>\n",
       "  <tbody>\n",
       "    <tr>\n",
       "      <th>0</th>\n",
       "      <td>297</td>\n",
       "      <td>0.04</td>\n",
       "      <td>0.090909</td>\n",
       "      <td>0.666667</td>\n",
       "    </tr>\n",
       "    <tr>\n",
       "      <th>1</th>\n",
       "      <td>298</td>\n",
       "      <td>1.00</td>\n",
       "      <td>0.727273</td>\n",
       "      <td>0.000000</td>\n",
       "    </tr>\n",
       "    <tr>\n",
       "      <th>2</th>\n",
       "      <td>299</td>\n",
       "      <td>0.64</td>\n",
       "      <td>0.181818</td>\n",
       "      <td>1.000000</td>\n",
       "    </tr>\n",
       "    <tr>\n",
       "      <th>3</th>\n",
       "      <td>300</td>\n",
       "      <td>0.28</td>\n",
       "      <td>0.454545</td>\n",
       "      <td>1.000000</td>\n",
       "    </tr>\n",
       "    <tr>\n",
       "      <th>4</th>\n",
       "      <td>301</td>\n",
       "      <td>0.12</td>\n",
       "      <td>0.181818</td>\n",
       "      <td>0.000000</td>\n",
       "    </tr>\n",
       "    <tr>\n",
       "      <th>5</th>\n",
       "      <td>302</td>\n",
       "      <td>0.48</td>\n",
       "      <td>0.000000</td>\n",
       "      <td>0.333333</td>\n",
       "    </tr>\n",
       "    <tr>\n",
       "      <th>6</th>\n",
       "      <td>303</td>\n",
       "      <td>0.56</td>\n",
       "      <td>0.727273</td>\n",
       "      <td>1.000000</td>\n",
       "    </tr>\n",
       "    <tr>\n",
       "      <th>7</th>\n",
       "      <td>304</td>\n",
       "      <td>0.00</td>\n",
       "      <td>1.000000</td>\n",
       "      <td>0.333333</td>\n",
       "    </tr>\n",
       "    <tr>\n",
       "      <th>8</th>\n",
       "      <td>305</td>\n",
       "      <td>0.32</td>\n",
       "      <td>0.090909</td>\n",
       "      <td>0.666667</td>\n",
       "    </tr>\n",
       "    <tr>\n",
       "      <th>9</th>\n",
       "      <td>306</td>\n",
       "      <td>0.68</td>\n",
       "      <td>0.181818</td>\n",
       "      <td>0.000000</td>\n",
       "    </tr>\n",
       "  </tbody>\n",
       "</table>\n",
       "</div>"
      ],
      "text/plain": [
       "    id    x1        x2        x3\n",
       "0  297  0.04  0.090909  0.666667\n",
       "1  298  1.00  0.727273  0.000000\n",
       "2  299  0.64  0.181818  1.000000\n",
       "3  300  0.28  0.454545  1.000000\n",
       "4  301  0.12  0.181818  0.000000\n",
       "5  302  0.48  0.000000  0.333333\n",
       "6  303  0.56  0.727273  1.000000\n",
       "7  304  0.00  1.000000  0.333333\n",
       "8  305  0.32  0.090909  0.666667\n",
       "9  306  0.68  0.181818  0.000000"
      ]
     },
     "execution_count": 9,
     "metadata": {},
     "output_type": "execute_result"
    }
   ],
   "source": [
    "# Normalisasi data test menggunakan rumus min-max scaling\n",
    "dfTestNorm = pd.DataFrame(index=dfTest.index, columns=dfTest.columns)\n",
    "xMax = dfTest[\"x1\"].max()\n",
    "xMin = dfTest[\"x1\"].min()\n",
    "for i in range(len(dfTest)):\n",
    "    x = dfTest[\"x1\"][i]\n",
    "    xNew = (x - xMin) / (xMax - xMin)\n",
    "    dfTestNorm[\"x1\"][i] = float(xNew)\n",
    "\n",
    "xMax = dfTest[\"x2\"].max()\n",
    "xMin = dfTest[\"x2\"].min()\n",
    "for i in range(len(dfTest)):\n",
    "    x = dfTest[\"x2\"][i]\n",
    "    xNew = (x - xMin) / (xMax - xMin)\n",
    "    dfTestNorm[\"x2\"][i] = float(xNew)\n",
    "\n",
    "xMax = dfTest[\"x3\"].max()\n",
    "xMin = dfTest[\"x3\"].min()\n",
    "for i in range(len(dfTest)):\n",
    "    x = dfTest[\"x3\"][i]\n",
    "    xNew = (x - xMin) / (xMax - xMin)\n",
    "    dfTestNorm[\"x3\"][i] = float(xNew)\n",
    "\n",
    "dfTestNorm['x1'] = dfTestNorm['x1'].astype(float)\n",
    "dfTestNorm['x2'] = dfTestNorm['x2'].astype(float)\n",
    "dfTestNorm['x3'] = dfTestNorm['x3'].astype(float)\n",
    "dfTestNorm['id'] = dfTest['id'].astype(str)\n",
    "dfTestNorm"
   ]
  },
  {
   "cell_type": "code",
   "execution_count": 10,
   "metadata": {
    "colab": {
     "base_uri": "https://localhost:8080/",
     "height": 518
    },
    "id": "k4OmvHM121Pb",
    "outputId": "612194b0-e090-41fa-b607-ff3b410f9ac5"
   },
   "outputs": [
    {
     "data": {
      "text/plain": [
       "Text(0.5, 1.0, 'Data test setelah normalisasi')"
      ]
     },
     "execution_count": 10,
     "metadata": {},
     "output_type": "execute_result"
    },
    {
     "data": {
      "image/png": "[encoded data removed]",
      "text/plain": [
       "<Figure size 360x576 with 1 Axes>"
      ]
     },
     "metadata": {},
     "output_type": "display_data"
    }
   ],
   "source": [
    "# menampilkan data test yang sudah dinormalisasi dalam bentuk boxplot\n",
    "sns.set_theme(style=\"whitegrid\")\n",
    "ax = sns.boxplot(data=dfTestNorm[['x1', 'x2', 'x3']], orient=\"v\", palette=\"Set2\")\n",
    "sns.set(rc={'figure.figsize':(5, 8)})\n",
    "ax.set_xticklabels(['x1', 'x2', 'x3'])\n",
    "plt.title('Data test setelah normalisasi')"
   ]
  },
  {
   "cell_type": "markdown",
   "metadata": {
    "id": "b5VBVmR_zkbY"
   },
   "source": [
    "#KNN"
   ]
  },
  {
   "cell_type": "code",
   "execution_count": 11,
   "metadata": {
    "id": "rfvlpdPYaCQZ"
   },
   "outputs": [],
   "source": [
    "start_time_KNN = time.time()\n",
    "# Metode Eucledian\n",
    "def Euclidean(dfNorm, test):\n",
    "    result = []\n",
    "    for i in range(len(dfNorm)):\n",
    "        distancex = math.sqrt((((dfNorm['x1'][i] - test['x1']) ** 2) +((dfNorm['x2'][i] - test['x2']) ** 2) + ((dfNorm['x3'][i] - test['x3']) ** 2)))\n",
    "        result.append([distancex, dfNorm['y'][i]])\n",
    "    return result\n",
    "\n",
    "# Metode Manhattan\n",
    "def Manhattan(dfNorm, test):\n",
    "    result = []\n",
    "    for i in range(len(dfNorm)):\n",
    "        distance = abs((((dfNorm['x1'][i] - test['x1'])) + ((dfNorm['x2'][i] - test['x2'])) + ((dfNorm['x3'][i] - test['x3']))))\n",
    "        result.append([distance , dfNorm['y'][i]])\n",
    "    return result"
   ]
  },
  {
   "cell_type": "code",
   "execution_count": 12,
   "metadata": {
    "colab": {
     "base_uri": "https://localhost:8080/",
     "height": 363
    },
    "id": "ovDR9B45cEFL",
    "outputId": "ec8de30c-2de6-479c-c8fd-a05524035988"
   },
   "outputs": [
    {
     "data": {
      "text/html": [
       "<div>\n",
       "<style scoped>\n",
       "    .dataframe tbody tr th:only-of-type {\n",
       "        vertical-align: middle;\n",
       "    }\n",
       "\n",
       "    .dataframe tbody tr th {\n",
       "        vertical-align: top;\n",
       "    }\n",
       "\n",
       "    .dataframe thead th {\n",
       "        text-align: right;\n",
       "    }\n",
       "</style>\n",
       "<table border=\"1\" class=\"dataframe\">\n",
       "  <thead>\n",
       "    <tr style=\"text-align: right;\">\n",
       "      <th></th>\n",
       "      <th>id</th>\n",
       "      <th>y</th>\n",
       "    </tr>\n",
       "  </thead>\n",
       "  <tbody>\n",
       "    <tr>\n",
       "      <th>0</th>\n",
       "      <td>297</td>\n",
       "      <td>1</td>\n",
       "    </tr>\n",
       "    <tr>\n",
       "      <th>1</th>\n",
       "      <td>298</td>\n",
       "      <td>1</td>\n",
       "    </tr>\n",
       "    <tr>\n",
       "      <th>2</th>\n",
       "      <td>299</td>\n",
       "      <td>0</td>\n",
       "    </tr>\n",
       "    <tr>\n",
       "      <th>3</th>\n",
       "      <td>300</td>\n",
       "      <td>0</td>\n",
       "    </tr>\n",
       "    <tr>\n",
       "      <th>4</th>\n",
       "      <td>301</td>\n",
       "      <td>1</td>\n",
       "    </tr>\n",
       "    <tr>\n",
       "      <th>5</th>\n",
       "      <td>302</td>\n",
       "      <td>0</td>\n",
       "    </tr>\n",
       "    <tr>\n",
       "      <th>6</th>\n",
       "      <td>303</td>\n",
       "      <td>0</td>\n",
       "    </tr>\n",
       "    <tr>\n",
       "      <th>7</th>\n",
       "      <td>304</td>\n",
       "      <td>1</td>\n",
       "    </tr>\n",
       "    <tr>\n",
       "      <th>8</th>\n",
       "      <td>305</td>\n",
       "      <td>0</td>\n",
       "    </tr>\n",
       "    <tr>\n",
       "      <th>9</th>\n",
       "      <td>306</td>\n",
       "      <td>1</td>\n",
       "    </tr>\n",
       "  </tbody>\n",
       "</table>\n",
       "</div>"
      ],
      "text/plain": [
       "    id  y\n",
       "0  297  1\n",
       "1  298  1\n",
       "2  299  0\n",
       "3  300  0\n",
       "4  301  1\n",
       "5  302  0\n",
       "6  303  0\n",
       "7  304  1\n",
       "8  305  0\n",
       "9  306  1"
      ]
     },
     "execution_count": 12,
     "metadata": {},
     "output_type": "execute_result"
    }
   ],
   "source": [
    "# Memanggil fungsi Eucledian, melakukan sort, mengambil k data teratas, dan melakukan label vote\n",
    "def KNNeuclidean(dfNorm, dfTestNorm, k):\n",
    "    hasil = []\n",
    "    for i in range(len(dfTestNorm)):\n",
    "        distance = Euclidean(dfNorm, dfTestNorm.iloc[[i]])\n",
    "        distance = sorted(distance, key=lambda x:x[0])\n",
    "        distanceK = distance[:k]\n",
    "        satu = 0\n",
    "        nol = 0 \n",
    "        for j in range(k):\n",
    "            if distanceK[j][1] == 1:\n",
    "                satu += 1\n",
    "            else:\n",
    "                nol += 1\n",
    "        if satu > nol:\n",
    "            hasil.append([dfTestNorm.loc[i, 'id'], 1])\n",
    "        else:\n",
    "            hasil.append([dfTestNorm.loc[i, 'id'], 0])\n",
    "    dfHasil = pd.DataFrame(hasil, columns = ['id', 'y'])\n",
    "    return dfHasil\n",
    "\n",
    "# Memanggil fungsi Manhattan, melakukan sort, mengambil k data teratas, dan melakukan label vote\n",
    "def KNNmanhattan(dfNorm, dfTestNorm, k):\n",
    "    hasil = []\n",
    "    for i in range(len(dfTestNorm)):\n",
    "        distance = Manhattan(dfNorm, dfTestNorm.iloc[i])\n",
    "        distance = sorted(distance, key=lambda x:x[0])\n",
    "        distanceK = distance[:k]\n",
    "        satu = 0\n",
    "        nol = 0 \n",
    "        for j in range(k):\n",
    "            if distanceK[j][1] == 1:\n",
    "                satu += 1\n",
    "            else:\n",
    "                nol += 1\n",
    "        if satu > nol:\n",
    "            hasil.append([dfTestNorm.loc[i, 'id'], 1])\n",
    "        else:\n",
    "            hasil.append([dfTestNorm.loc[i, 'id'], 0])\n",
    "    dfHasil = pd.DataFrame(hasil, columns = ['id', 'y'])\n",
    "    return dfHasil\n",
    "\n",
    "def getKNN(dfNorm, dfTestNorm, k):\n",
    "    return {\n",
    "        'euclidean' : KNNeuclidean(dfNorm, dfTestNorm, k),\n",
    "        'manhattan' : KNNmanhattan(dfNorm, dfTestNorm, k)\n",
    "    }\n",
    "\n",
    "KNN = getKNN(dfNorm, dfTestNorm, k=3)\n",
    "\n",
    "KNN_time = time.time() - start_time_KNN\n",
    "\n",
    "KNN['euclidean']"
   ]
  },
  {
   "cell_type": "code",
   "execution_count": null,
   "metadata": {
    "id": "zFWfEEMj2VAt"
   },
   "outputs": [],
   "source": [
    "def Validation(dfNorm):\n",
    "    testfold1 = dfNorm.iloc[:59].drop('y', axis = 1)\n",
    "    trainfold1 = dfNorm.iloc[59:].reset_index().drop('index', axis = 1)\n",
    "    testfold2 = dfNorm.iloc[59:118].drop('y', axis = 1).reset_index().drop('index', axis = 1)\n",
    "    trainfold2 = pd.concat([dfNorm.iloc[:59], dfNorm.iloc[118:]]).reset_index().drop('index', axis = 1)\n",
    "    testfold3 = dfNorm.iloc[118:177].drop('y', axis = 1).reset_index().drop('index', axis = 1)\n",
    "    trainfold3 = pd.concat([dfNorm.iloc[:118], dfNorm.iloc[177:]]).reset_index().drop('index', axis = 1)\n",
    "    testfold4 = dfNorm.iloc[177:236].drop('y', axis = 1).reset_index().drop('index', axis = 1)\n",
    "    trainfold4 = pd.concat([dfNorm.iloc[:177], dfNorm.iloc[236:]]).reset_index().drop('index', axis = 1)\n",
    "    testfold5 = dfNorm.iloc[236:295].drop('y', axis = 1).reset_index().drop('index', axis = 1)\n",
    "    trainfold5 = dfNorm.iloc[0:236].reset_index().drop('index', axis = 1)\n",
    "    hasilfold1 = getKNN(trainfold1, testfold1, 3)\n",
    "    hasilfold2 = getKNN(trainfold2, testfold2, 3)\n",
    "    hasilfold3 = getKNN(trainfold3, testfold3, 3)\n",
    "    hasilfold4 = getKNN(trainfold4, testfold4, 3)\n",
    "    hasilfold5 = getKNN(trainfold5, testfold5, 3)\n",
    "    accuracy = []\n",
    "    benar = 0\n",
    "\n",
    "    # fold 1\n",
    "    for i in range(len(hasilfold1['euclidean'])):\n",
    "        if hasilfold1['euclidean']['y'][i] == dfNorm['y'][i]:\n",
    "            benar += 1\n",
    "    accu = benar / len(hasilfold1['euclidean'])\n",
    "    accuracy.append(accu)\n",
    "    \n",
    "    benar = 0\n",
    "    # fold 2\n",
    "    for i in range(len(hasilfold1['euclidean'])):\n",
    "        if hasilfold1['euclidean']['y'][i] == dfNorm.iloc[59:118]['y'][i+59]:\n",
    "            benar += 1\n",
    "    accu = benar / len(hasilfold1['euclidean'])\n",
    "    accuracy.append(accu)\n",
    "    \n",
    "    benar = 0\n",
    "    # fold 3\n",
    "    for i in range(len(hasilfold1['euclidean'])):\n",
    "        if hasilfold1['euclidean']['y'][i] == dfNorm.iloc[118:177]['y'][i+118]:\n",
    "            benar += 1\n",
    "    accu = benar / len(hasilfold1['euclidean'])\n",
    "    accuracy.append(accu)\n",
    "\n",
    "    benar = 0\n",
    "    # fold 4\n",
    "    for i in range(len(hasilfold1['euclidean'])):\n",
    "        if hasilfold1['euclidean']['y'][i] == dfNorm.iloc[177:236]['y'][i+177]:\n",
    "            benar += 1\n",
    "    accu = benar / len(hasilfold1['euclidean'])\n",
    "    accuracy.append(accu)\n",
    "\n",
    "    benar = 0\n",
    "    # fold 5\n",
    "    for i in range(len(hasilfold1['euclidean'])):\n",
    "        if hasilfold1['euclidean']['y'][i] == dfNorm.iloc[236:295]['y'][i+236]:\n",
    "            benar += 1\n",
    "    accu = benar / len(hasilfold1['euclidean'])\n",
    "    accuracy.append(accu)\n",
    "    return accuracy\n",
    "\n",
    "print(Validation(dfNorm))"
   ]
  },
  {
   "cell_type": "code",
   "execution_count": 14,
   "metadata": {
    "colab": {
     "base_uri": "https://localhost:8080/",
     "height": 363
    },
    "id": "s5C_CguddQs1",
    "outputId": "7c9e6a1d-4212-4e34-ce04-e17aba4ed970"
   },
   "outputs": [
    {
     "data": {
      "text/html": [
       "<div>\n",
       "<style scoped>\n",
       "    .dataframe tbody tr th:only-of-type {\n",
       "        vertical-align: middle;\n",
       "    }\n",
       "\n",
       "    .dataframe tbody tr th {\n",
       "        vertical-align: top;\n",
       "    }\n",
       "\n",
       "    .dataframe thead th {\n",
       "        text-align: right;\n",
       "    }\n",
       "</style>\n",
       "<table border=\"1\" class=\"dataframe\">\n",
       "  <thead>\n",
       "    <tr style=\"text-align: right;\">\n",
       "      <th></th>\n",
       "      <th>id</th>\n",
       "      <th>y</th>\n",
       "    </tr>\n",
       "  </thead>\n",
       "  <tbody>\n",
       "    <tr>\n",
       "      <th>0</th>\n",
       "      <td>297</td>\n",
       "      <td>1</td>\n",
       "    </tr>\n",
       "    <tr>\n",
       "      <th>1</th>\n",
       "      <td>298</td>\n",
       "      <td>1</td>\n",
       "    </tr>\n",
       "    <tr>\n",
       "      <th>2</th>\n",
       "      <td>299</td>\n",
       "      <td>1</td>\n",
       "    </tr>\n",
       "    <tr>\n",
       "      <th>3</th>\n",
       "      <td>300</td>\n",
       "      <td>1</td>\n",
       "    </tr>\n",
       "    <tr>\n",
       "      <th>4</th>\n",
       "      <td>301</td>\n",
       "      <td>1</td>\n",
       "    </tr>\n",
       "    <tr>\n",
       "      <th>5</th>\n",
       "      <td>302</td>\n",
       "      <td>1</td>\n",
       "    </tr>\n",
       "    <tr>\n",
       "      <th>6</th>\n",
       "      <td>303</td>\n",
       "      <td>1</td>\n",
       "    </tr>\n",
       "    <tr>\n",
       "      <th>7</th>\n",
       "      <td>304</td>\n",
       "      <td>1</td>\n",
       "    </tr>\n",
       "    <tr>\n",
       "      <th>8</th>\n",
       "      <td>305</td>\n",
       "      <td>1</td>\n",
       "    </tr>\n",
       "    <tr>\n",
       "      <th>9</th>\n",
       "      <td>306</td>\n",
       "      <td>1</td>\n",
       "    </tr>\n",
       "  </tbody>\n",
       "</table>\n",
       "</div>"
      ],
      "text/plain": [
       "    id  y\n",
       "0  297  1\n",
       "1  298  1\n",
       "2  299  1\n",
       "3  300  1\n",
       "4  301  1\n",
       "5  302  1\n",
       "6  303  1\n",
       "7  304  1\n",
       "8  305  1\n",
       "9  306  1"
      ]
     },
     "execution_count": 14,
     "metadata": {},
     "output_type": "execute_result"
    }
   ],
   "source": [
    "KNN['manhattan']"
   ]
  },
  {
   "cell_type": "code",
   "execution_count": null,
   "metadata": {
    "colab": {
     "base_uri": "https://localhost:8080/"
    },
    "id": "hUXA6MKmeMVc",
    "outputId": "260e6594-d0e9-40c9-f7d6-dc9587a4b27e"
   },
   "outputs": [
    {
     "name": "stdout",
     "output_type": "stream",
     "text": [
      "Process finished --- 2.8848953247070312 seconds ---\n"
     ]
    }
   ],
   "source": [
    "print(\"Process finished --- %s seconds ---\" % KNN_time)"
   ]
  },
  {
   "cell_type": "code",
   "execution_count": null,
   "metadata": {
    "id": "XfEt9Mlm7bDl"
   },
   "outputs": [],
   "source": [
    "# writer = pd.ExcelWriter('KNN.xlsx', engine='xlsxwriter')\n",
    "\n",
    "# # Write each dataframe to a different worksheet.\n",
    "# KNN['euclidean'].to_excel(writer, sheet_name='Euclidean')\n",
    "# KNN['manhattan'].to_excel(writer, sheet_name='Manhattan')"
   ]
  },
  {
   "cell_type": "code",
   "execution_count": null,
   "metadata": {
    "id": "K_D3AEj7Bk14"
   },
   "outputs": [],
   "source": [
    "with pd.ExcelWriter('KNN.xlsx') as writer:\n",
    "    KNN['euclidean'].to_excel(writer, sheet_name='Euclidean', index = False)\n",
    "    KNN['manhattan'].to_excel(writer, sheet_name='Manhattan', index = False)"
   ]
  },
  {
   "cell_type": "markdown",
   "metadata": {
    "id": "Xcy0L0Pxyh3D"
   },
   "source": [
    "# AL NAIVE BAYESIAN"
   ]
  },
  {
   "cell_type": "markdown",
   "metadata": {
    "id": "MCJvT0i8hsE7"
   },
   "source": [
    "Program di bawah bakal diisi naive bayes ya ges ya"
   ]
  },
  {
   "cell_type": "code",
   "execution_count": null,
   "metadata": {
    "id": "BjTw9Dcnzb2I"
   },
   "outputs": [],
   "source": [
    "start_time_bayes = time.time()\n",
    "\n",
    "# Memisahkan label y = 1 dan y = 0\n",
    "def pisah(dfNorm):\n",
    "  nol = []\n",
    "  satu = []\n",
    "  for i in range(len(dfNorm)):\n",
    "      if dfNorm['y'][i] == 0:\n",
    "          nol.append([dfNorm['x1'][i], dfNorm['x2'][i], dfNorm['x3'][i], dfNorm['y'][i]])\n",
    "      else:\n",
    "          satu.append([dfNorm['x1'][i], dfNorm['x2'][i], dfNorm['x3'][i], dfNorm['y'][i]])\n",
    "  return nol, satu\n",
    "\n",
    "# Menghitung mean dan variansi dari tiap label\n",
    "nol, satu = pisah(dfNorm)\n",
    "\n",
    "dfNol = pd.DataFrame(data = nol, columns = ['x1', 'x2', 'x3', 'y'])\n",
    "dfSatu = pd.DataFrame(data = satu, columns = ['x1', 'x2', 'x3', 'y'])\n",
    "\n",
    "nolMean = dfNol[['x1', 'x2', 'x3']].mean()\n",
    "satuMean = dfSatu[['x1', 'x2', 'x3']].mean()\n",
    "\n",
    "nolVar = dfNol[['x1', 'x2', 'x3']].var()\n",
    "satuVar = dfSatu[['x1', 'x2', 'x3']].var()"
   ]
  },
  {
   "cell_type": "code",
   "execution_count": null,
   "metadata": {
    "colab": {
     "base_uri": "https://localhost:8080/",
     "height": 363
    },
    "id": "11aSrCSSUcSa",
    "outputId": "a3d66780-412f-484d-8b86-7d4f0f609469"
   },
   "outputs": [
    {
     "data": {
      "text/html": [
       "\n",
       "  <div id=\"df-8f41f190-3cde-48c3-a098-b5d95b6e607e\">\n",
       "    <div class=\"colab-df-container\">\n",
       "      <div>\n",
       "<style scoped>\n",
       "    .dataframe tbody tr th:only-of-type {\n",
       "        vertical-align: middle;\n",
       "    }\n",
       "\n",
       "    .dataframe tbody tr th {\n",
       "        vertical-align: top;\n",
       "    }\n",
       "\n",
       "    .dataframe thead th {\n",
       "        text-align: right;\n",
       "    }\n",
       "</style>\n",
       "<table border=\"1\" class=\"dataframe\">\n",
       "  <thead>\n",
       "    <tr style=\"text-align: right;\">\n",
       "      <th></th>\n",
       "      <th>id</th>\n",
       "      <th>y</th>\n",
       "    </tr>\n",
       "  </thead>\n",
       "  <tbody>\n",
       "    <tr>\n",
       "      <th>0</th>\n",
       "      <td>297</td>\n",
       "      <td>0</td>\n",
       "    </tr>\n",
       "    <tr>\n",
       "      <th>1</th>\n",
       "      <td>298</td>\n",
       "      <td>1</td>\n",
       "    </tr>\n",
       "    <tr>\n",
       "      <th>2</th>\n",
       "      <td>299</td>\n",
       "      <td>0</td>\n",
       "    </tr>\n",
       "    <tr>\n",
       "      <th>3</th>\n",
       "      <td>300</td>\n",
       "      <td>0</td>\n",
       "    </tr>\n",
       "    <tr>\n",
       "      <th>4</th>\n",
       "      <td>301</td>\n",
       "      <td>1</td>\n",
       "    </tr>\n",
       "    <tr>\n",
       "      <th>5</th>\n",
       "      <td>302</td>\n",
       "      <td>0</td>\n",
       "    </tr>\n",
       "    <tr>\n",
       "      <th>6</th>\n",
       "      <td>303</td>\n",
       "      <td>0</td>\n",
       "    </tr>\n",
       "    <tr>\n",
       "      <th>7</th>\n",
       "      <td>304</td>\n",
       "      <td>0</td>\n",
       "    </tr>\n",
       "    <tr>\n",
       "      <th>8</th>\n",
       "      <td>305</td>\n",
       "      <td>0</td>\n",
       "    </tr>\n",
       "    <tr>\n",
       "      <th>9</th>\n",
       "      <td>306</td>\n",
       "      <td>1</td>\n",
       "    </tr>\n",
       "  </tbody>\n",
       "</table>\n",
       "</div>\n",
       "      <button class=\"colab-df-convert\" onclick=\"convertToInteractive('df-8f41f190-3cde-48c3-a098-b5d95b6e607e')\"\n",
       "              title=\"Convert this dataframe to an interactive table.\"\n",
       "              style=\"display:none;\">\n",
       "        \n",
       "  <svg xmlns=\"http://www.w3.org/2000/svg\" height=\"24px\"viewBox=\"0 0 24 24\"\n",
       "       width=\"24px\">\n",
       "    <path d=\"M0 0h24v24H0V0z\" fill=\"none\"/>\n",
       "    <path d=\"M18.56 5.44l.94 2.06.94-2.06 2.06-.94-2.06-.94-.94-2.06-.94 2.06-2.06.94zm-11 1L8.5 8.5l.94-2.06 2.06-.94-2.06-.94L8.5 2.5l-.94 2.06-2.06.94zm10 10l.94 2.06.94-2.06 2.06-.94-2.06-.94-.94-2.06-.94 2.06-2.06.94z\"/><path d=\"M17.41 7.96l-1.37-1.37c-.4-.4-.92-.59-1.43-.59-.52 0-1.04.2-1.43.59L10.3 9.45l-7.72 7.72c-.78.78-.78 2.05 0 2.83L4 21.41c.39.39.9.59 1.41.59.51 0 1.02-.2 1.41-.59l7.78-7.78 2.81-2.81c.8-.78.8-2.07 0-2.86zM5.41 20L4 18.59l7.72-7.72 1.47 1.35L5.41 20z\"/>\n",
       "  </svg>\n",
       "      </button>\n",
       "      \n",
       "  <style>\n",
       "    .colab-df-container {\n",
       "      display:flex;\n",
       "      flex-wrap:wrap;\n",
       "      gap: 12px;\n",
       "    }\n",
       "\n",
       "    .colab-df-convert {\n",
       "      background-color: #E8F0FE;\n",
       "      border: none;\n",
       "      border-radius: 50%;\n",
       "      cursor: pointer;\n",
       "      display: none;\n",
       "      fill: #1967D2;\n",
       "      height: 32px;\n",
       "      padding: 0 0 0 0;\n",
       "      width: 32px;\n",
       "    }\n",
       "\n",
       "    .colab-df-convert:hover {\n",
       "      background-color: #E2EBFA;\n",
       "      box-shadow: 0px 1px 2px rgba(60, 64, 67, 0.3), 0px 1px 3px 1px rgba(60, 64, 67, 0.15);\n",
       "      fill: #174EA6;\n",
       "    }\n",
       "\n",
       "    [theme=dark] .colab-df-convert {\n",
       "      background-color: #3B4455;\n",
       "      fill: #D2E3FC;\n",
       "    }\n",
       "\n",
       "    [theme=dark] .colab-df-convert:hover {\n",
       "      background-color: #434B5C;\n",
       "      box-shadow: 0px 1px 3px 1px rgba(0, 0, 0, 0.15);\n",
       "      filter: drop-shadow(0px 1px 2px rgba(0, 0, 0, 0.3));\n",
       "      fill: #FFFFFF;\n",
       "    }\n",
       "  </style>\n",
       "\n",
       "      <script>\n",
       "        const buttonEl =\n",
       "          document.querySelector('#df-8f41f190-3cde-48c3-a098-b5d95b6e607e button.colab-df-convert');\n",
       "        buttonEl.style.display =\n",
       "          google.colab.kernel.accessAllowed ? 'block' : 'none';\n",
       "\n",
       "        async function convertToInteractive(key) {\n",
       "          const element = document.querySelector('#df-8f41f190-3cde-48c3-a098-b5d95b6e607e');\n",
       "          const dataTable =\n",
       "            await google.colab.kernel.invokeFunction('convertToInteractive',\n",
       "                                                     [key], {});\n",
       "          if (!dataTable) return;\n",
       "\n",
       "          const docLinkHtml = 'Like what you see? Visit the ' +\n",
       "            '<a target=\"_blank\" href=https://colab.research.google.com/notebooks/data_table.ipynb>data table notebook</a>'\n",
       "            + ' to learn more about interactive tables.';\n",
       "          element.innerHTML = '';\n",
       "          dataTable['output_type'] = 'display_data';\n",
       "          await google.colab.output.renderOutput(dataTable, element);\n",
       "          const docLink = document.createElement('div');\n",
       "          docLink.innerHTML = docLinkHtml;\n",
       "          element.appendChild(docLink);\n",
       "        }\n",
       "      </script>\n",
       "    </div>\n",
       "  </div>\n",
       "  "
      ],
      "text/plain": [
       "    id  y\n",
       "0  297  0\n",
       "1  298  1\n",
       "2  299  0\n",
       "3  300  0\n",
       "4  301  1\n",
       "5  302  0\n",
       "6  303  0\n",
       "7  304  0\n",
       "8  305  0\n",
       "9  306  1"
      ]
     },
     "execution_count": 46,
     "metadata": {},
     "output_type": "execute_result"
    }
   ],
   "source": [
    "def Bayes(nolMean, satuMean, nolVar, satuVar, dfTestNorm):\n",
    "  hasilBayes = []\n",
    "  for i in range(len(dfTestNorm)):\n",
    "      resultNo = ((1/(nolVar['x1'] * math.sqrt(2 * math.pi))) * math.exp(-(dfTestNorm['x1'][i] - nolMean['x1'])/(2 * nolVar['x1']**2)) *\n",
    "                  (1/(nolVar['x2'] * math.sqrt(2 * math.pi))) * math.exp(-(dfTestNorm['x2'][i] - nolMean['x2'])/(2 * nolVar['x2']**2)) * \n",
    "                  (1/(nolVar['x3'] * math.sqrt(2 * math.pi))) * math.exp(-(dfTestNorm['x3'][i] - nolMean['x3'])/(2 * nolVar['x3']**2)) *\n",
    "                  (len(dfNol)/len(dfNorm)))\n",
    "      resultYes = ((1/(satuVar['x1'] * math.sqrt(2 * math.pi))) * math.exp(-(dfTestNorm['x1'][i] - satuMean['x1'])/(2 * satuVar['x1']**2)) *\n",
    "                  (1/(satuVar['x2'] * math.sqrt(2 * math.pi))) * math.exp(-(dfTestNorm['x2'][i] - satuMean['x2'])/(2 * satuVar['x2']**2)) * \n",
    "                  (1/(satuVar['x3'] * math.sqrt(2 * math.pi))) * math.exp(-(dfTestNorm['x3'][i] - satuMean['x3'])/(2 * satuVar['x3']**2)) *\n",
    "                  (len(dfSatu)/len(dfNorm)))\n",
    "      if resultNo > resultYes:\n",
    "          hasilBayes.append([dfTestNorm.loc[i, 'id'], 0])\n",
    "      else:\n",
    "          hasilBayes.append([dfTestNorm.loc[i, 'id'], 1])\n",
    "  return hasilBayes\n",
    "\n",
    "hasilBayes = pd.DataFrame(data = Bayes(nolMean, satuMean, nolVar, satuVar, dfTestNorm), columns = ['id', 'y'])\n",
    "\n",
    "bayes_time = (time.time() - start_time_bayes)\n",
    "\n",
    "hasilBayes"
   ]
  },
  {
   "cell_type": "code",
   "execution_count": null,
   "metadata": {
    "colab": {
     "base_uri": "https://localhost:8080/"
    },
    "id": "Tr7cttFjear0",
    "outputId": "20d48263-968b-4a05-dd68-80c23d197e97"
   },
   "outputs": [
    {
     "name": "stdout",
     "output_type": "stream",
     "text": [
      "Process finished --- 0.04967808723449707 seconds ---\n"
     ]
    }
   ],
   "source": [
    "print(\"Process finished --- %s seconds ---\" % (bayes_time))"
   ]
  }
 ],
 "metadata": {
  "colab": {
   "collapsed_sections": [],
   "name": "Tupro3",
   "provenance": []
  },
  "kernelspec": {
   "display_name": "Python 3 (ipykernel)",
   "language": "python",
   "name": "python3"
  },
  "language_info": {
   "codemirror_mode": {
    "name": "ipython",
    "version": 3
   },
   "file_extension": ".py",
   "mimetype": "text/x-python",
   "name": "python",
   "nbconvert_exporter": "python",
   "pygments_lexer": "ipython3",
   "version": "3.9.12"
  }
 },
 "nbformat": 4,
 "nbformat_minor": 1
}
